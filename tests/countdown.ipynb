{
 "cells": [
  {
   "cell_type": "code",
   "execution_count": 11,
   "metadata": {
    "collapsed": true,
    "ExecuteTime": {
     "end_time": "2024-02-20T11:46:57.638114819Z",
     "start_time": "2024-02-20T11:46:57.552532522Z"
    }
   },
   "outputs": [],
   "source": [
    "from datetime import datetime"
   ]
  },
  {
   "cell_type": "code",
   "execution_count": 12,
   "outputs": [],
   "source": [
    "start = datetime.strptime('Jan 8 2024  17:00', '%b %d %Y %H:%M')\n",
    "merger_deadline = datetime.strptime('Apr 1 2024 17:00', '%b %d %Y %H:%M')  # \n",
    "comp_close = datetime.strptime('Apr 8 2024 17:00', '%b %d %Y %H:%M')  # "
   ],
   "metadata": {
    "collapsed": false,
    "ExecuteTime": {
     "end_time": "2024-02-20T11:46:57.639343427Z",
     "start_time": "2024-02-20T11:46:57.620173848Z"
    }
   }
  },
  {
   "cell_type": "code",
   "execution_count": 13,
   "outputs": [],
   "source": [
    "nowdate = datetime.now()\n",
    "count_1 = int((merger_deadline - nowdate).total_seconds())\n",
    "count_2 = int((comp_close - nowdate).total_seconds())"
   ],
   "metadata": {
    "collapsed": false,
    "ExecuteTime": {
     "end_time": "2024-02-20T11:46:57.678654778Z",
     "start_time": "2024-02-20T11:46:57.641307909Z"
    }
   }
  },
  {
   "cell_type": "markdown",
   "source": [
    "# merger deadline"
   ],
   "metadata": {
    "collapsed": false
   }
  },
  {
   "cell_type": "code",
   "execution_count": 14,
   "outputs": [
    {
     "name": "stdout",
     "output_type": "stream",
     "text": [
      "40 days 19 hours 13 minutes 2 seconds until merger deadline\n"
     ]
    }
   ],
   "source": [
    "days = count_1 // 86400\n",
    "hours = (count_1 - days * 86400) // 3600\n",
    "minutes = (count_1 - days * 86400 - hours * 3600) // 60\n",
    "seconds = count_1 - days * 86400 - hours * 3600 - minutes * 60\n",
    "print(f\"{days} days {hours} hours {minutes} minutes {seconds} seconds until merger deadline\")  # complete"
   ],
   "metadata": {
    "collapsed": false,
    "ExecuteTime": {
     "end_time": "2024-02-20T11:46:57.678981026Z",
     "start_time": "2024-02-20T11:46:57.676326917Z"
    }
   }
  },
  {
   "cell_type": "markdown",
   "source": [
    "# end competition"
   ],
   "metadata": {
    "collapsed": false
   }
  },
  {
   "cell_type": "code",
   "execution_count": 15,
   "outputs": [
    {
     "name": "stdout",
     "output_type": "stream",
     "text": [
      "47 days 19 hours 13 minutes 2 seconds until competition ends\n"
     ]
    }
   ],
   "source": [
    "days = count_2 // 86400\n",
    "hours = (count_2 - days * 86400) // 3600\n",
    "minutes = (count_2 - days * 86400 - hours * 3600) // 60\n",
    "seconds = count_2 - days * 86400 - hours * 3600 - minutes * 60\n",
    "print(f\"{days} days {hours} hours {minutes} minutes {seconds} seconds until competition ends\")"
   ],
   "metadata": {
    "collapsed": false,
    "ExecuteTime": {
     "end_time": "2024-02-20T11:46:57.736574534Z",
     "start_time": "2024-02-20T11:46:57.720078280Z"
    }
   }
  }
 ],
 "metadata": {
  "kernelspec": {
   "display_name": "Python 3",
   "language": "python",
   "name": "python3"
  },
  "language_info": {
   "codemirror_mode": {
    "name": "ipython",
    "version": 2
   },
   "file_extension": ".py",
   "mimetype": "text/x-python",
   "name": "python",
   "nbconvert_exporter": "python",
   "pygments_lexer": "ipython2",
   "version": "2.7.6"
  }
 },
 "nbformat": 4,
 "nbformat_minor": 0
}
