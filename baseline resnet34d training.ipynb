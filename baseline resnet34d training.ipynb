{
 "metadata": {
  "kernelspec": {
   "language": "python",
   "display_name": "Python 3",
   "name": "python3"
  },
  "language_info": {
   "name": "python",
   "version": "3.10.12",
   "mimetype": "text/x-python",
   "codemirror_mode": {
    "name": "ipython",
    "version": 3
   },
   "pygments_lexer": "ipython3",
   "nbconvert_exporter": "python",
   "file_extension": ".py"
  },
  "kaggle": {
   "accelerator": "gpu",
   "dataSources": [
    {
     "sourceId": 59093,
     "databundleVersionId": 7469972,
     "sourceType": "competition"
    }
   ],
   "dockerImageVersionId": 30636,
   "isInternetEnabled": true,
   "language": "python",
   "sourceType": "notebook",
   "isGpuEnabled": true
  }
 },
 "nbformat_minor": 4,
 "nbformat": 4,
 "cells": [
  {
   "cell_type": "markdown",
   "source": [
    "### Created by yunsuxiaozi"
   ],
   "metadata": {
    "_uuid": "8f2839f25d086af736a60e9eeb907d3b93b6e0e5",
    "_cell_guid": "b1076dfc-b9ad-4769-8c92-a6c4dae69d19"
   }
  },
  {
   "cell_type": "markdown",
   "source": [
    "### Import necessary libraries"
   ],
   "metadata": {}
  },
  {
   "cell_type": "code",
   "source": [
    "#https://www.kaggle.com/code/ttahara/hms-hbac-resnet34d-baseline-training\n",
    "#https://www.kaggle.com/code/ttahara/hms-hbac-resnet34d-baseline-inference\n",
    "#necessary\n",
    "import pandas as pd\n",
    "import numpy as np\n",
    "import matplotlib.pyplot as plt\n",
    "import torch \n",
    "import timm\n",
    "import torch.nn as nn\n",
    "import torch.optim as optim\n",
    "import torch.nn.functional as F\n",
    "import torchvision.transforms as transforms\n",
    "import random\n",
    "import warnings\n",
    "warnings.filterwarnings('ignore')"
   ],
   "metadata": {
    "trusted": true,
    "ExecuteTime": {
     "end_time": "2024-02-03T11:01:19.154898226Z",
     "start_time": "2024-02-03T11:01:17.205710647Z"
    }
   },
   "execution_count": 1,
   "outputs": []
  },
  {
   "cell_type": "markdown",
   "source": [
    "### pretrain_model"
   ],
   "metadata": {}
  },
  {
   "cell_type": "code",
   "source": [
    "model = timm.create_model(\n",
    "    'resnet34d', \n",
    "    pretrained=True, \n",
    "    num_classes=6, \n",
    "    in_chans=1\n",
    ")"
   ],
   "metadata": {
    "trusted": true,
    "ExecuteTime": {
     "end_time": "2024-02-03T11:01:19.627422200Z",
     "start_time": "2024-02-03T11:01:19.156684840Z"
    }
   },
   "execution_count": 2,
   "outputs": []
  },
  {
   "cell_type": "markdown",
   "source": [
    "### Config"
   ],
   "metadata": {}
  },
  {
   "cell_type": "code",
   "source": [
    "class CFG:\n",
    "    SEED = 2024\n",
    "    IMAGE_TRANSFORM = transforms.Resize((512, 512))\n",
    "    BATCH_SIZE = 32\n",
    "    NUM_EPOCHS = 10\n",
    "    LABELS = ['seizure', 'lpd', 'gpd', 'lrda', 'grda', 'other']\n",
    "    FEATS = ['seizure_vote', 'lpd_vote', 'gpd_vote', 'lrda_vote', 'grda_vote', 'other_vote']"
   ],
   "metadata": {
    "trusted": true,
    "ExecuteTime": {
     "end_time": "2024-02-03T11:01:19.631533970Z",
     "start_time": "2024-02-03T11:01:19.628818586Z"
    }
   },
   "execution_count": 3,
   "outputs": []
  },
  {
   "cell_type": "markdown",
   "source": [
    "### Seed "
   ],
   "metadata": {}
  },
  {
   "cell_type": "code",
   "source": [
    "def seed_everything(seed):\n",
    "    torch.backends.cudnn.deterministic = True\n",
    "    torch.backends.cudnn.benchmark = True\n",
    "    torch.manual_seed(seed)\n",
    "    np.random.seed(seed)\n",
    "    random.seed(seed)\n",
    "    \n",
    "\n",
    "seed_everything(CFG.SEED)"
   ],
   "metadata": {
    "trusted": true,
    "ExecuteTime": {
     "end_time": "2024-02-03T11:01:19.706398436Z",
     "start_time": "2024-02-03T11:01:19.631026288Z"
    }
   },
   "execution_count": 4,
   "outputs": []
  },
  {
   "cell_type": "markdown",
   "source": [
    "### labels"
   ],
   "metadata": {}
  },
  {
   "cell_type": "code",
   "source": [
    "train_df = pd.read_csv(\"data/train.csv\")\n",
    "train_df = train_df[train_df['eeg_sub_id'] == 0]\n",
    "\n",
    "\n",
    "for label in CFG.LABELS:\n",
    "    group=train_df[f'{label}_vote'].groupby(train_df['spectrogram_id']).sum()\n",
    "    label_vote_sum = pd.DataFrame({'spectrogram_id': group.index, f'{label}_vote_sum': group.values})\n",
    "    if label=='seizure':\n",
    "        train_feats=label_vote_sum\n",
    "    else:\n",
    "        train_feats=train_feats.merge(label_vote_sum, on='spectrogram_id', how='left')\n",
    "        \n",
    "train_feats['total_vote'] = 0\n",
    "\n",
    "for label in CFG.LABELS:\n",
    "      train_feats['total_vote']+=train_feats[f'{label}_vote_sum']\n",
    "\n",
    "for label in CFG.LABELS:\n",
    "      train_feats[f'{label}_vote']=train_feats[f'{label}_vote_sum']/train_feats['total_vote']\n",
    "\n",
    "choose_cols=['spectrogram_id']\n",
    "\n",
    "for label in CFG.LABELS:\n",
    "    choose_cols += [f'{label}_vote']\n",
    "\n",
    "train_feats=train_feats[choose_cols]\n",
    "train_feats['path']=train_feats['spectrogram_id'].apply(lambda x: \"data/train_spectrograms/\" + str(x) + \".parquet\" )\n",
    "train_feats.head()"
   ],
   "metadata": {
    "trusted": true,
    "ExecuteTime": {
     "end_time": "2024-02-03T11:01:19.822587243Z",
     "start_time": "2024-02-03T11:01:19.710715314Z"
    }
   },
   "execution_count": 5,
   "outputs": [
    {
     "data": {
      "text/plain": "   spectrogram_id  seizure_vote  lpd_vote  gpd_vote  lrda_vote  grda_vote  \\\n0          353733      1.000000    0.0000  0.000000      0.000   0.000000   \n1          924234      0.000000    0.0000  0.454545      0.000   0.090909   \n2          999431      0.000000    0.0625  0.000000      0.875   0.000000   \n3         1084844      0.000000    0.0000  0.000000      1.000   0.000000   \n4         1219001      0.692308    0.0000  0.307692      0.000   0.000000   \n\n   other_vote                                     path  \n0    0.000000   data/train_spectrograms/353733.parquet  \n1    0.454545   data/train_spectrograms/924234.parquet  \n2    0.062500   data/train_spectrograms/999431.parquet  \n3    0.000000  data/train_spectrograms/1084844.parquet  \n4    0.000000  data/train_spectrograms/1219001.parquet  ",
      "text/html": "<div>\n<style scoped>\n    .dataframe tbody tr th:only-of-type {\n        vertical-align: middle;\n    }\n\n    .dataframe tbody tr th {\n        vertical-align: top;\n    }\n\n    .dataframe thead th {\n        text-align: right;\n    }\n</style>\n<table border=\"1\" class=\"dataframe\">\n  <thead>\n    <tr style=\"text-align: right;\">\n      <th></th>\n      <th>spectrogram_id</th>\n      <th>seizure_vote</th>\n      <th>lpd_vote</th>\n      <th>gpd_vote</th>\n      <th>lrda_vote</th>\n      <th>grda_vote</th>\n      <th>other_vote</th>\n      <th>path</th>\n    </tr>\n  </thead>\n  <tbody>\n    <tr>\n      <th>0</th>\n      <td>353733</td>\n      <td>1.000000</td>\n      <td>0.0000</td>\n      <td>0.000000</td>\n      <td>0.000</td>\n      <td>0.000000</td>\n      <td>0.000000</td>\n      <td>data/train_spectrograms/353733.parquet</td>\n    </tr>\n    <tr>\n      <th>1</th>\n      <td>924234</td>\n      <td>0.000000</td>\n      <td>0.0000</td>\n      <td>0.454545</td>\n      <td>0.000</td>\n      <td>0.090909</td>\n      <td>0.454545</td>\n      <td>data/train_spectrograms/924234.parquet</td>\n    </tr>\n    <tr>\n      <th>2</th>\n      <td>999431</td>\n      <td>0.000000</td>\n      <td>0.0625</td>\n      <td>0.000000</td>\n      <td>0.875</td>\n      <td>0.000000</td>\n      <td>0.062500</td>\n      <td>data/train_spectrograms/999431.parquet</td>\n    </tr>\n    <tr>\n      <th>3</th>\n      <td>1084844</td>\n      <td>0.000000</td>\n      <td>0.0000</td>\n      <td>0.000000</td>\n      <td>1.000</td>\n      <td>0.000000</td>\n      <td>0.000000</td>\n      <td>data/train_spectrograms/1084844.parquet</td>\n    </tr>\n    <tr>\n      <th>4</th>\n      <td>1219001</td>\n      <td>0.692308</td>\n      <td>0.0000</td>\n      <td>0.307692</td>\n      <td>0.000</td>\n      <td>0.000000</td>\n      <td>0.000000</td>\n      <td>data/train_spectrograms/1219001.parquet</td>\n    </tr>\n  </tbody>\n</table>\n</div>"
     },
     "execution_count": 5,
     "metadata": {},
     "output_type": "execute_result"
    }
   ]
  },
  {
   "cell_type": "markdown",
   "source": [
    "### Train_Test_split"
   ],
   "metadata": {}
  },
  {
   "cell_type": "code",
   "source": [
    "split = 0.8\n",
    "random_num = np.arange(len(train_feats))\n",
    "np.random.shuffle(random_num)\n",
    "split_num = int(len(train_feats)*split)\n",
    "train_idx=random_num[:split_num]\n",
    "test_idx=random_num[split_num:]\n",
    "\n",
    "print(f\"train_idx\")\n",
    "\n",
    "for label in CFG.LABELS:\n",
    "    print(f\"{label}:{train_feats.iloc[train_idx][label+'_vote'].sum()}\")\n",
    "\n",
    "print(f\"test_idx\")\n",
    "\n",
    "for label in CFG.LABELS:\n",
    "    print(f\"{label}:{train_feats.iloc[test_idx][label+'_vote'].sum()}\")"
   ],
   "metadata": {
    "trusted": true,
    "ExecuteTime": {
     "end_time": "2024-02-03T11:01:19.833741503Z",
     "start_time": "2024-02-03T11:01:19.824934750Z"
    }
   },
   "execution_count": 6,
   "outputs": [
    {
     "name": "stdout",
     "output_type": "stream",
     "text": [
      "train_idx\n",
      "seizure:1627.5429277590763\n",
      "lpd:992.4822588679306\n",
      "gpd:775.8651789477645\n",
      "lrda:615.1320480036595\n",
      "grda:1212.1043590244096\n",
      "other:3686.873227397159\n",
      "test_idx\n",
      "seizure:392.5208838740165\n",
      "lpd:246.74863188352396\n",
      "gpd:215.62070678472827\n",
      "lrda:153.22201301507783\n",
      "grda:290.4126848953289\n",
      "other:929.4750795473245\n"
     ]
    }
   ]
  },
  {
   "cell_type": "markdown",
   "source": [
    "### Loss function :Kullback Leibler Divergence"
   ],
   "metadata": {}
  },
  {
   "cell_type": "code",
   "source": [
    "def KL_loss(p,q):\n",
    "    epsilon=10 ** (-15)\n",
    "    p = torch.clip(p, epsilon, 1 - epsilon)\n",
    "    q = nn.functional.log_softmax(q, dim=1)\n",
    "    return torch.mean(torch.sum(p * (torch.log(p) - q), dim=1))"
   ],
   "metadata": {
    "trusted": true,
    "ExecuteTime": {
     "end_time": "2024-02-03T11:01:19.923346913Z",
     "start_time": "2024-02-03T11:01:19.832217887Z"
    }
   },
   "execution_count": 7,
   "outputs": []
  },
  {
   "cell_type": "markdown",
   "source": [
    "### get_batch_data"
   ],
   "metadata": {}
  },
  {
   "cell_type": "code",
   "source": [
    "def get_batch(paths, batch_size=CFG.BATCH_SIZE):\n",
    "    eps=1e-6\n",
    "    batch_data=[]\n",
    "    for path in paths:\n",
    "        data=pd.read_parquet(path[0])\n",
    "        data = data.fillna(-1).values[:, 1:].T\n",
    "        data=data[:,0:300] \n",
    "        data=np.clip(data,np.exp(-6),np.exp(10))\n",
    "        data= np.log(data)\n",
    "        data_mean=data.mean(axis=(0,1))\n",
    "        data_std=data.std(axis=(0,1))\n",
    "        data=(data-data_mean)/(data_std+eps)\n",
    "        data_tensor = torch.unsqueeze(torch.Tensor(data), dim=0)\n",
    "        data=CFG.IMAGE_TRANSFORM(data_tensor)\n",
    "        batch_data.append(data)\n",
    "    batch_data=torch.stack(batch_data)\n",
    "    return batch_data"
   ],
   "metadata": {
    "trusted": true,
    "ExecuteTime": {
     "end_time": "2024-02-03T11:01:19.923791525Z",
     "start_time": "2024-02-03T11:01:19.876235740Z"
    }
   },
   "execution_count": 8,
   "outputs": []
  },
  {
   "cell_type": "markdown",
   "source": [
    "### Model training"
   ],
   "metadata": {}
  },
  {
   "cell_type": "code",
   "source": [
    "optimizer=optim.AdamW(\n",
    "    model.parameters(),\n",
    "    lr=0.001,\n",
    "    betas=(0.5,0.999),\n",
    "    weight_decay=0.01\n",
    ")\n",
    "\n",
    "device ='cuda' if  torch.cuda.is_available() else 'cpu'\n",
    "print(f\"device:{device}\")\n",
    "model.to(device)\n",
    "\n",
    "train_losses=[]\n",
    "test_losses=[]\n",
    "\n",
    "print(f\"start\")\n",
    "\n",
    "for epoch in range(CFG.NUM_EPOCHS):\n",
    "    print(f\"epoch {epoch}:\")\n",
    "    model.train()\n",
    "    train_loss=[]\n",
    "    random_num=np.arange(len(train_idx))\n",
    "    np.random.shuffle(random_num)\n",
    "    train_idx=train_idx[random_num]\n",
    "    \n",
    "    for idx in range(0, len(train_idx), CFG.BATCH_SIZE): \n",
    "        optimizer.zero_grad()\n",
    "        train_idx1 = train_idx[idx: idx + CFG.BATCH_SIZE]\n",
    "        train_X1_path = train_feats[['path']].iloc[train_idx1].values\n",
    "        train_X1 = get_batch(train_X1_path, batch_size=CFG.BATCH_SIZE)\n",
    "        train_y1 = train_feats[CFG.FEATS].iloc[train_idx1].values\n",
    "        train_y1 = torch.Tensor(train_y1)\n",
    "        train_pred = model(train_X1.to(device))\n",
    "        loss = KL_loss(train_y1.to(device), train_pred.to(device)).to(device)\n",
    "        loss.backward()\n",
    "        optimizer.step()\n",
    "        train_loss.append(loss.detach().cpu().numpy())\n",
    "        \n",
    "    train_loss=np.mean(np.array(train_loss))\n",
    "    print(f\"train_loss:{train_loss}\")\n",
    "    test_loss=[]\n",
    "    model.eval()\n",
    "    with torch.no_grad():\n",
    "        for idx in range(0, len(test_idx), CFG.BATCH_SIZE): \n",
    "            test_idx1= test_idx[idx:idx + CFG.BATCH_SIZE]\n",
    "            test_X1_path=train_feats[['path']].iloc[test_idx1].values\n",
    "            test_X1=get_batch(test_X1_path, batch_size=CFG.BATCH_SIZE)\n",
    "            test_y1=train_feats[CFG.FEATS].iloc[test_idx1].values\n",
    "            test_y1=torch.Tensor(test_y1)\n",
    "            test_pred=model(test_X1.to(device))\n",
    "            loss=KL_loss(test_y1.to(device),test_pred.to(device)).to(device)\n",
    "            test_loss.append(loss.detach().cpu().numpy())\n",
    "    test_loss=np.mean(np.array(test_loss))\n",
    "    print(f\"test_loss:{test_loss}\")\n",
    "    train_losses.append(train_loss)\n",
    "    test_losses.append(test_loss)\n",
    "    print(\"-\" * 50)"
   ],
   "metadata": {
    "trusted": true,
    "ExecuteTime": {
     "end_time": "2024-02-03T11:40:57.804242346Z",
     "start_time": "2024-02-03T11:01:19.876375184Z"
    }
   },
   "execution_count": 9,
   "outputs": [
    {
     "name": "stdout",
     "output_type": "stream",
     "text": [
      "device:cuda\n",
      "start\n",
      "epoch 0:\n",
      "train_loss:0.8849838376045227\n",
      "test_loss:0.9196282625198364\n",
      "--------------------------------------------------\n",
      "epoch 1:\n",
      "train_loss:0.6940669417381287\n",
      "test_loss:0.8342322111129761\n",
      "--------------------------------------------------\n",
      "epoch 2:\n",
      "train_loss:0.6192984580993652\n",
      "test_loss:0.7144370675086975\n",
      "--------------------------------------------------\n",
      "epoch 3:\n",
      "train_loss:0.5579016804695129\n",
      "test_loss:0.7617588043212891\n",
      "--------------------------------------------------\n",
      "epoch 4:\n",
      "train_loss:0.49599799513816833\n",
      "test_loss:0.6525914072990417\n",
      "--------------------------------------------------\n",
      "epoch 5:\n",
      "train_loss:0.4383402168750763\n",
      "test_loss:0.7451339960098267\n",
      "--------------------------------------------------\n",
      "epoch 6:\n",
      "train_loss:0.39113175868988037\n",
      "test_loss:0.6559407711029053\n",
      "--------------------------------------------------\n",
      "epoch 7:\n",
      "train_loss:0.32329756021499634\n",
      "test_loss:0.6529508233070374\n",
      "--------------------------------------------------\n",
      "epoch 8:\n",
      "train_loss:0.26708585023880005\n",
      "test_loss:0.7128684520721436\n",
      "--------------------------------------------------\n",
      "epoch 9:\n",
      "train_loss:0.22595463693141937\n",
      "test_loss:0.675656259059906\n",
      "--------------------------------------------------\n"
     ]
    }
   ]
  },
  {
   "cell_type": "markdown",
   "source": [
    "### Plot train_losses VS test_losses"
   ],
   "metadata": {}
  },
  {
   "cell_type": "code",
   "source": [
    "plt.title(\"train_losses VS test_losses\")\n",
    "epochs=[i for i in range(len(train_losses))]\n",
    "\n",
    "plt.plot(\n",
    "    epochs,\n",
    "    train_losses,\n",
    "    marker=\"o\",\n",
    "    markersize=1,\n",
    "    label=\"train_losses\"\n",
    ")\n",
    "\n",
    "plt.plot(\n",
    "    epochs,\n",
    "    test_losses,\n",
    "    marker=\"x\",\n",
    "    markersize=1,\n",
    "    label=\"test_losses\"\n",
    ")\n",
    "\n",
    "plt.legend()\n",
    "plt.show()"
   ],
   "metadata": {
    "trusted": true,
    "ExecuteTime": {
     "end_time": "2024-02-03T11:40:57.936351622Z",
     "start_time": "2024-02-03T11:40:57.804183635Z"
    }
   },
   "execution_count": 10,
   "outputs": [
    {
     "data": {
      "text/plain": "<Figure size 640x480 with 1 Axes>",
      "image/png": "[encoded data removed]"
     },
     "metadata": {},
     "output_type": "display_data"
    }
   ]
  },
  {
   "cell_type": "markdown",
   "source": [
    "### Save model"
   ],
   "metadata": {}
  },
  {
   "cell_type": "code",
   "source": [
    "torch.save(model.to('cpu'), \"HMS_resnet.pth\")"
   ],
   "metadata": {
    "trusted": true,
    "ExecuteTime": {
     "end_time": "2024-02-03T11:40:58.094266415Z",
     "start_time": "2024-02-03T11:40:57.937258239Z"
    }
   },
   "execution_count": 11,
   "outputs": []
  }
 ]
}
